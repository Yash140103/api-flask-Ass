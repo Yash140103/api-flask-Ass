{
  "nbformat": 4,
  "nbformat_minor": 0,
  "metadata": {
    "colab": {
      "provenance": []
    },
    "kernelspec": {
      "name": "python3",
      "display_name": "Python 3"
    },
    "language_info": {
      "name": "python"
    }
  },
  "cells": [
    {
      "cell_type": "markdown",
      "source": [
        "#Theory Questions"
      ],
      "metadata": {
        "id": "SwFLq1QGeKBe"
      }
    },
    {
      "cell_type": "markdown",
      "source": [
        "1. What is a RESTful API?\n",
        "- A RESTful API is an application interface that follows REST principles using HTTP methods for communication.\n",
        "\n",
        "2. Explain the concept of API specification.\n",
        "- It defines how APIs should behave—outlining endpoints, request/response formats, and data types.\n",
        "\n",
        "3. What is Flask, and why is it popular for building APIs?\n",
        "- Flask is a lightweight Python web framework. It's popular due to its simplicity, flexibility, and wide extension support.\n",
        "\n",
        "4. What is routing in Flask?\n",
        "- Routing is the process of matching a URL to a specific function (view) in a Flask app.\n",
        "\n",
        "5. How do you create a simple Flask application?\n",
        "\n",
        "- python\n",
        "Copy\n",
        "Edit\n",
        "from flask import Flask\n",
        "app = Flask(__name__)\n",
        "\n",
        "@app.route('/')\n",
        "def home():\n",
        "    return \"Hello, Flask!\"\n",
        "\n",
        "if __name__ == '__main__':\n",
        "    app.run()\n",
        "6. What are HTTP methods used in RESTful APIs?\n",
        "- Common ones are: GET, POST, PUT, DELETE, PATCH.\n",
        "\n",
        "7. What is the purpose of the @app.route() decorator in Flask?\n",
        "- It binds a URL path to a Python function, creating a route.\n",
        "\n",
        "8. What is the difference between GET and POST HTTP methods?\n",
        "\n",
        "- GET retrieves data.\n",
        "\n",
        "POST submits data to be processed.\n",
        "\n",
        "9. How do you handle errors in Flask APIs?\n",
        "- By using error handlers and Flask's @app.errorhandler decorator.\n",
        "\n",
        "10. How do you connect Flask to a SQL database?\n",
        "- Using libraries like SQLAlchemy or Flask-SQLAlchemy.\n",
        "\n",
        "11. What is the role of Flask-SQLAlchemy?\n",
        "- It integrates SQLAlchemy with Flask to manage databases using ORM.\n",
        "\n",
        "12. What are Flask blueprints, and how are they useful?\n",
        "- Blueprints help modularize code by grouping routes and logic into components.\n",
        "\n",
        "13. What is the purpose of Flask’s request object?\n",
        "- It provides access to request data like form input, headers, and JSON payload.\n",
        "\n",
        "14. How do you create a RESTful API endpoint using Flask?\n",
        "- By defining a route and specifying the method:\n",
        "\n",
        "python\n",
        "Copy\n",
        "Edit\n",
        "@app.route('/api/data', methods=['GET'])\n",
        "def get_data():\n",
        "    return {\"data\": \"example\"}\n",
        "15. What is the purpose of Flask’s jsonify() function?\n",
        "- It converts Python dictionaries to JSON responses with correct MIME type.\n",
        "\n",
        "16. Explain Flask’s url_for() function.\n",
        "- It dynamically builds URLs for Flask endpoints, aiding in maintainability.\n",
        "\n",
        "17. How does Flask handle static files (CSS, JavaScript, etc.)?\n",
        "- Flask serves them from the /static directory by default.\n",
        "\n",
        "18. What is an API specification, and how does it help in building a Flask API?\n",
        "- It provides a clear structure for building and documenting APIs, ensuring consistency and easy integration.\n",
        "\n",
        "19. What are HTTP status codes, and why are they important in a Flask API?\n",
        "- They indicate the result of a request (e.g., 200 OK, 404 Not Found), helping clients understand responses.\n",
        "\n",
        "20. How do you handle POST requests in Flask?\n",
        "- Use @app.route(..., methods=['POST']) and access data with request.form or request.json.\n",
        "\n",
        "21. How would you secure a Flask API?\n",
        "- Use authentication (JWT, OAuth), HTTPS, input validation, and rate limiting.\n",
        "\n",
        "22. What is the significance of the Flask-RESTful extension?\n",
        "- Flask-RESTful simplifies building REST APIs by providing resource-based routing, input validation, and automatic HTTP status code handling.\n",
        "\n",
        "23. What is the role of Flask’s session object?\n",
        "- Flask’s session object is used to store user-specific data across requests (like login info). It uses secure cookies to maintain state between client and server.\n"
      ],
      "metadata": {
        "id": "tZo2dcrPeTfm"
      }
    },
    {
      "cell_type": "markdown",
      "source": [
        "#Practical Questions"
      ],
      "metadata": {
        "id": "CN40BGqHfYkk"
      }
    },
    {
      "cell_type": "code",
      "execution_count": null,
      "metadata": {
        "colab": {
          "base_uri": "https://localhost:8080/"
        },
        "id": "Xld7_Q_PeHj6",
        "outputId": "c8eb7fbd-4cad-4fe8-9de8-0ffe937e58ed"
      },
      "outputs": [
        {
          "output_type": "stream",
          "name": "stdout",
          "text": [
            " * Serving Flask app '__main__'\n",
            " * Debug mode: off\n"
          ]
        },
        {
          "output_type": "stream",
          "name": "stderr",
          "text": [
            "INFO:werkzeug:\u001b[31m\u001b[1mWARNING: This is a development server. Do not use it in a production deployment. Use a production WSGI server instead.\u001b[0m\n",
            " * Running on http://127.0.0.1:5000\n",
            "INFO:werkzeug:\u001b[33mPress CTRL+C to quit\u001b[0m\n"
          ]
        }
      ],
      "source": [
        "# How do you create a basic Flask application?\n",
        "from flask import Flask\n",
        "app = Flask(__name__)\n",
        "\n",
        "@app.route('/')\n",
        "def home():\n",
        "    return \"Hello, Flask!\"\n",
        "\n",
        "if __name__ == '__main__':\n",
        "    app.run()\n"
      ]
    },
    {
      "cell_type": "code",
      "source": [
        "#How do you serve static files like images or CSS in Flask?\n",
        "<link rel=\"stylesheet\" href=\"{{ url_for('static', filename='style.css') }}\">\n"
      ],
      "metadata": {
        "id": "B-IZ7otdgD7s"
      },
      "execution_count": null,
      "outputs": []
    },
    {
      "cell_type": "code",
      "source": [
        "# How do you define different routes with different HTTP methods in Flask?\n",
        "@app.route('/submit', methods=['GET', 'POST'])\n",
        "def submit():\n",
        "    if request.method == 'POST':\n",
        "        return \"Form submitted\"\n",
        "    return \"Form page\"\n"
      ],
      "metadata": {
        "id": "UVFhbNWpgI_z"
      },
      "execution_count": null,
      "outputs": []
    },
    {
      "cell_type": "code",
      "source": [
        "# How do you render HTML templates in Flask?\n",
        "from flask import render_template\n",
        "@app.route('/hello')\n",
        "def hello():\n",
        "    return render_template('hello.html')\n"
      ],
      "metadata": {
        "id": "kGJ8AcNegN5G"
      },
      "execution_count": null,
      "outputs": []
    },
    {
      "cell_type": "code",
      "source": [
        "# How can you generate URLs for routes in Flask using url_for?\n",
        "url_for('hello')  # Returns the URL for the 'hello' view\n",
        "\n"
      ],
      "metadata": {
        "id": "KK9Gpgp_gX67"
      },
      "execution_count": null,
      "outputs": []
    },
    {
      "cell_type": "code",
      "source": [
        "# How do you handle forms in Flask?\n",
        "@app.route('/form', methods=['POST'])\n",
        "def form():\n",
        "    name = request.form['name']\n",
        "    return f\"Hello {name}\"\n"
      ],
      "metadata": {
        "id": "SZfy1I1BgeFC"
      },
      "execution_count": null,
      "outputs": []
    },
    {
      "cell_type": "code",
      "source": [
        "# How can you validate form data in Flask?\n",
        "if not request.form['email']:\n",
        "    return \"Email is required\"\n"
      ],
      "metadata": {
        "id": "PBQ0mva_gjMI"
      },
      "execution_count": null,
      "outputs": []
    },
    {
      "cell_type": "code",
      "source": [
        "# How do you manage sessions in Flask?\n",
        "from flask import session\n",
        "session['user'] = 'Yash'\n"
      ],
      "metadata": {
        "id": "89Dj9Iypgn5S"
      },
      "execution_count": null,
      "outputs": []
    },
    {
      "cell_type": "code",
      "source": [
        "# How do you redirect to a different route in Flask?\n",
        "\n",
        "from flask import redirect, url_for\n",
        "return redirect(url_for('home'))\n"
      ],
      "metadata": {
        "id": "o9l5EvhSgs9X"
      },
      "execution_count": null,
      "outputs": []
    },
    {
      "cell_type": "code",
      "source": [
        "# How do you handle errors in Flask (e.g., 404)?\n",
        "@app.errorhandler(404)\n",
        "def page_not_found(e):\n",
        "    return \"404 Not Found\", 404\n"
      ],
      "metadata": {
        "id": "cMJbu0HGgxqv"
      },
      "execution_count": null,
      "outputs": []
    },
    {
      "cell_type": "code",
      "source": [
        "# How do you structure a Flask app using Blueprints?\n",
        "bp = Blueprint('admin', __name__)\n",
        "\n",
        "@bp.route('/dashboard')\n",
        "def dashboard():\n",
        "    return \"Admin Dashboard\"\n",
        "\n",
        "# In main app\n",
        "app.register_blueprint(bp, url_prefix='/admin')\n"
      ],
      "metadata": {
        "id": "Mp45yq_Eg2JL"
      },
      "execution_count": null,
      "outputs": []
    },
    {
      "cell_type": "code",
      "source": [
        "# How do you define a custom Jinja filter in Flask?\n",
        "def reverse_string(s):\n",
        "    return s[::-1]\n",
        "\n",
        "app.jinja_env.filters['reverse'] = reverse_string\n",
        "\n"
      ],
      "metadata": {
        "id": "_9s3qTI2g7uP"
      },
      "execution_count": null,
      "outputs": []
    },
    {
      "cell_type": "code",
      "source": [
        "# How can you redirect with query parameters in Flask?\n",
        "\n",
        "return redirect(url_for('search', q='flask'))\n"
      ],
      "metadata": {
        "id": "iikyoAcZhB_i"
      },
      "execution_count": null,
      "outputs": []
    },
    {
      "cell_type": "code",
      "source": [
        "# How do you return JSON responses in Flask?\n",
        "\n",
        "from flask import jsonify\n",
        "return jsonify({'status': 'success'})\n"
      ],
      "metadata": {
        "id": "xJHWVvCohHd3"
      },
      "execution_count": null,
      "outputs": []
    },
    {
      "cell_type": "code",
      "source": [
        "# How do you capture URL parameters in Flask?\n",
        "@app.route('/user/<username>')\n",
        "def show_user(username):\n",
        "    return f\"Hello, {username}\"\n"
      ],
      "metadata": {
        "id": "j4Bg7juDhNCU"
      },
      "execution_count": null,
      "outputs": []
    },
    {
      "cell_type": "code",
      "source": [],
      "metadata": {
        "id": "AFfrtB4JhRF7"
      },
      "execution_count": null,
      "outputs": []
    }
  ]
}